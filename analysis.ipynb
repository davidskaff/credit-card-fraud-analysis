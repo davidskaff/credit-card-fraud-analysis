{
 "cells": [
  {
   "cell_type": "code",
   "execution_count": 120,
   "metadata": {},
   "outputs": [
    {
     "data": {
      "text/html": [
       "<div>\n",
       "<style scoped>\n",
       "    .dataframe tbody tr th:only-of-type {\n",
       "        vertical-align: middle;\n",
       "    }\n",
       "\n",
       "    .dataframe tbody tr th {\n",
       "        vertical-align: top;\n",
       "    }\n",
       "\n",
       "    .dataframe thead th {\n",
       "        text-align: right;\n",
       "    }\n",
       "</style>\n",
       "<table border=\"1\" class=\"dataframe\">\n",
       "  <thead>\n",
       "    <tr style=\"text-align: right;\">\n",
       "      <th></th>\n",
       "      <th>Number ID</th>\n",
       "      <th>Province/State</th>\n",
       "      <th>Fraud and Cybercrime Thematic Categories</th>\n",
       "      <th>Solicitation Method</th>\n",
       "      <th>Gender</th>\n",
       "      <th>Victim Age Range</th>\n",
       "      <th>Dollar Loss</th>\n",
       "    </tr>\n",
       "  </thead>\n",
       "  <tbody>\n",
       "    <tr>\n",
       "      <th>0</th>\n",
       "      <td>1</td>\n",
       "      <td>Saskatchewan</td>\n",
       "      <td>Merchandise</td>\n",
       "      <td>Other/unknown</td>\n",
       "      <td>Male</td>\n",
       "      <td>60-69</td>\n",
       "      <td>222.73</td>\n",
       "    </tr>\n",
       "    <tr>\n",
       "      <th>1</th>\n",
       "      <td>2</td>\n",
       "      <td>British Columbia</td>\n",
       "      <td>Vendor Fraud</td>\n",
       "      <td>Text message</td>\n",
       "      <td>Male</td>\n",
       "      <td>10-19</td>\n",
       "      <td>300.00</td>\n",
       "    </tr>\n",
       "    <tr>\n",
       "      <th>2</th>\n",
       "      <td>3</td>\n",
       "      <td>Yukon</td>\n",
       "      <td>Spear Phishing</td>\n",
       "      <td>Email</td>\n",
       "      <td>Male</td>\n",
       "      <td>70-79</td>\n",
       "      <td>1600.00</td>\n",
       "    </tr>\n",
       "    <tr>\n",
       "      <th>3</th>\n",
       "      <td>4</td>\n",
       "      <td>Alberta</td>\n",
       "      <td>Extortion</td>\n",
       "      <td>Internet-social network</td>\n",
       "      <td>Male</td>\n",
       "      <td>40-49</td>\n",
       "      <td>24000.00</td>\n",
       "    </tr>\n",
       "    <tr>\n",
       "      <th>4</th>\n",
       "      <td>5</td>\n",
       "      <td>Prince Edward Island</td>\n",
       "      <td>Merchandise</td>\n",
       "      <td>Internet</td>\n",
       "      <td>Male</td>\n",
       "      <td>30-39</td>\n",
       "      <td>11000.00</td>\n",
       "    </tr>\n",
       "  </tbody>\n",
       "</table>\n",
       "</div>"
      ],
      "text/plain": [
       "   Number ID        Province/State Fraud and Cybercrime Thematic Categories  \\\n",
       "0          1          Saskatchewan                              Merchandise   \n",
       "1          2      British Columbia                             Vendor Fraud   \n",
       "2          3                 Yukon                           Spear Phishing   \n",
       "3          4               Alberta                                Extortion   \n",
       "4          5  Prince Edward Island                              Merchandise   \n",
       "\n",
       "       Solicitation Method Gender Victim Age Range  Dollar Loss  \n",
       "0            Other/unknown   Male            60-69       222.73  \n",
       "1             Text message   Male            10-19       300.00  \n",
       "2                    Email   Male            70-79      1600.00  \n",
       "3  Internet-social network   Male            40-49     24000.00  \n",
       "4                 Internet   Male            30-39     11000.00  "
      ]
     },
     "execution_count": 120,
     "metadata": {},
     "output_type": "execute_result"
    }
   ],
   "source": [
    "import pandas as pd\n",
    "import matplotlib.pyplot as plt\n",
    "# Specify the file path\n",
    "file_path = \"credit-card-fraud-data.csv\"\n",
    "\n",
    "# Read the CSV file\n",
    "cleaned_data = pd.read_csv(file_path)\n",
    "\n",
    "# Print the head of the DataFrame\n",
    "cleaned_data.head()"
   ]
  },
  {
   "cell_type": "code",
   "execution_count": 121,
   "metadata": {},
   "outputs": [
    {
     "name": "stdout",
     "output_type": "stream",
     "text": [
      "Number of unique transactions: 1000\n"
     ]
    }
   ],
   "source": [
    "# 2. Province/State Distribution\n",
    "num_transactions = len(cleaned_data)\n",
    "print(\"Number of unique transactions:\", num_transactions)"
   ]
  },
  {
   "cell_type": "code",
   "execution_count": 122,
   "metadata": {},
   "outputs": [
    {
     "name": "stdout",
     "output_type": "stream",
     "text": [
      "Number of unique provinces/states: 20\n"
     ]
    }
   ],
   "source": [
    "# 2. Number of unique provinces/states\n",
    "num_provinces_states = cleaned_data['Province/State'].nunique()\n",
    "print(\"Number of unique provinces/states:\", num_provinces_states)"
   ]
  },
  {
   "cell_type": "code",
   "execution_count": 123,
   "metadata": {},
   "outputs": [
    {
     "name": "stdout",
     "output_type": "stream",
     "text": [
      "Number of unique fraud and cybercrime thematic categories: 23\n"
     ]
    }
   ],
   "source": [
    "# 3. Number of unique fraud and cybercrime thematic categories\n",
    "num_fraud_categories = cleaned_data['Fraud and Cybercrime Thematic Categories'].nunique()\n",
    "print(\"Number of unique fraud and cybercrime thematic categories:\", num_fraud_categories)"
   ]
  },
  {
   "cell_type": "code",
   "execution_count": 124,
   "metadata": {},
   "outputs": [
    {
     "name": "stdout",
     "output_type": "stream",
     "text": [
      "Number of unique solicitation methods: 10\n"
     ]
    }
   ],
   "source": [
    "# 4. Number of unique solicitation methods\n",
    "num_solicitation_methods = cleaned_data['Solicitation Method'].nunique()\n",
    "print(\"Number of unique solicitation methods:\", num_solicitation_methods)"
   ]
  },
  {
   "cell_type": "code",
   "execution_count": 125,
   "metadata": {},
   "outputs": [
    {
     "name": "stdout",
     "output_type": "stream",
     "text": [
      "Gender distribution:\n",
      "Gender\n",
      "Female    519\n",
      "Male      481\n",
      "Name: count, dtype: int64\n"
     ]
    }
   ],
   "source": [
    "# 5. Gender distribution\n",
    "gender_distribution = cleaned_data['Gender'].value_counts()\n",
    "print(\"Gender distribution:\")\n",
    "print(gender_distribution)"
   ]
  },
  {
   "cell_type": "code",
   "execution_count": 126,
   "metadata": {},
   "outputs": [
    {
     "name": "stdout",
     "output_type": "stream",
     "text": [
      "Total dollar loss: 10526722.71\n",
      "Average dollar loss per transaction: 10526.72271\n"
     ]
    }
   ],
   "source": [
    "# 7. Total dollar loss\n",
    "total_dollar_loss = cleaned_data['Dollar Loss'].sum()\n",
    "print(\"Total dollar loss:\", total_dollar_loss)\n",
    "# 8. Average dollar loss per transaction\n",
    "average_dollar_loss_per_transaction = total_dollar_loss / num_transactions\n",
    "print(\"Average dollar loss per transaction:\", average_dollar_loss_per_transaction)"
   ]
  },
  {
   "cell_type": "code",
   "execution_count": 127,
   "metadata": {},
   "outputs": [
    {
     "name": "stdout",
     "output_type": "stream",
     "text": [
      "Maximum dollar loss: 1082651.1\n"
     ]
    }
   ],
   "source": [
    "# 9. Maximum dollar loss\n",
    "max_dollar_loss = cleaned_data['Dollar Loss'].max()\n",
    "print(\"Maximum dollar loss:\", max_dollar_loss)"
   ]
  },
  {
   "cell_type": "code",
   "execution_count": 128,
   "metadata": {},
   "outputs": [
    {
     "name": "stdout",
     "output_type": "stream",
     "text": [
      "Minimum dollar loss: 0.01\n"
     ]
    }
   ],
   "source": [
    "# 10. Minimum dollar loss\n",
    "min_dollar_loss = cleaned_data['Dollar Loss'].min()\n",
    "print(\"Minimum dollar loss:\", min_dollar_loss)"
   ]
  },
  {
   "cell_type": "code",
   "execution_count": 129,
   "metadata": {},
   "outputs": [
    {
     "name": "stdout",
     "output_type": "stream",
     "text": [
      "Summary statistics of victim age by solicitation method:\n",
      "                 count unique                      top freq\n",
      "Victim Age Range                                           \n",
      "10-19               60      6                 Internet   18\n",
      "100 +                1      1                    Email    1\n",
      "20-29              243      7  Internet-social network   69\n",
      "30-39              207      7                 Internet   71\n",
      "40-49              157      7                 Internet   63\n",
      "50-59              121      9                 Internet   39\n",
      "60-69              117      7              Direct call   32\n",
      "70-79               72      7                 Internet   24\n",
      "80-89               19      7              Direct call    8\n",
      "90-99                3      1              Direct call    3\n"
     ]
    }
   ],
   "source": [
    "# Group data by solicitation method\n",
    "grouped_data = cleaned_data.groupby('Victim Age Range')\n",
    "\n",
    "# Summary statistics of victim age for each group\n",
    "age_summary_stats = grouped_data['Solicitation Method'].describe()\n",
    "\n",
    "\n",
    "# Display summary statistics\n",
    "print(\"Summary statistics of victim age by solicitation method:\")\n",
    "print(age_summary_stats)"
   ]
  },
  {
   "cell_type": "code",
   "execution_count": 130,
   "metadata": {},
   "outputs": [
    {
     "name": "stdout",
     "output_type": "stream",
     "text": [
      "Data sorted by state count in descending order:\n",
      "               Province/State  Count count unique                      top  \\\n",
      "0                     Alberta     99    99      7                 Internet   \n",
      "1            British Columbia    112   112      7  Internet-social network   \n",
      "2                  California      2     2      1  Internet-social network   \n",
      "3                    Colorado      1     1      1   Door to door/in person   \n",
      "4                 Connecticut      1     1      1                    Radio   \n",
      "5                    Manitoba     42    42      5  Internet-social network   \n",
      "6                      Nevada      2     2      2                 Internet   \n",
      "7               New Brunswick     14    14      4              Direct call   \n",
      "8               New Hampshire      1     1      1                 Internet   \n",
      "9                  New Jersey      2     2      1                 Internet   \n",
      "10  Newfoundland And Labrador      9     9      5                 Internet   \n",
      "11     North West Territories      1     1      1                    Email   \n",
      "12                Nova Scotia     33    33      6                 Internet   \n",
      "13                    Ontario    439   439      9                 Internet   \n",
      "14       Prince Edward Island      2     2      2                 Internet   \n",
      "15                     Quebec    211   211      8                 Internet   \n",
      "16               Saskatchewan     25    25      7              Direct call   \n",
      "17                      Texas      1     1      1                 Internet   \n",
      "18                  Wisconsin      1     1      1                 Internet   \n",
      "19                      Yukon      2     2      2                    Email   \n",
      "\n",
      "   freq  \n",
      "0    30  \n",
      "1    35  \n",
      "2     2  \n",
      "3     1  \n",
      "4     1  \n",
      "5    12  \n",
      "6     1  \n",
      "7     4  \n",
      "8     1  \n",
      "9     2  \n",
      "10    4  \n",
      "11    1  \n",
      "12   13  \n",
      "13  136  \n",
      "14    1  \n",
      "15   77  \n",
      "16    8  \n",
      "17    1  \n",
      "18    1  \n",
      "19    1  \n"
     ]
    }
   ],
   "source": [
    "# Group data by province/state\n",
    "grouped_data = cleaned_data.groupby('Province/State')\n",
    "\n",
    "# Count occurrences of each province/state\n",
    "state_counts = grouped_data.size().reset_index(name='Count')\n",
    "\n",
    "# Summary statistics of solicitation method for each group\n",
    "solicitation_summary_stats = grouped_data['Solicitation Method'].describe()\n",
    "\n",
    "# Reset index to make 'Province/State' a regular column\n",
    "solicitation_summary_stats = solicitation_summary_stats.reset_index()\n",
    "\n",
    "# Merge count of occurrences with summary statistics DataFrame\n",
    "merged_data = pd.merge(state_counts, solicitation_summary_stats, on='Province/State')\n",
    "\n",
    "# Sort the merged data by count in descending order\n",
    "# sorted_merged_data = merged_data.sort_values(by='Count', ascending=False)\n",
    "\n",
    "# Display sorted data\n",
    "print(\"Data sorted by state count in descending order:\")\n",
    "print(merged_data)"
   ]
  },
  {
   "cell_type": "code",
   "execution_count": 131,
   "metadata": {},
   "outputs": [
    {
     "name": "stdout",
     "output_type": "stream",
     "text": [
      "Solicitation Method\n",
      "Internet                   31.4\n",
      "Internet-social network    26.6\n",
      "Direct call                15.8\n",
      "Email                      12.8\n",
      "Text message                7.9\n",
      "Other/unknown               3.4\n",
      "Door to door/in person      1.6\n",
      "Mail                        0.2\n",
      "Print                       0.2\n",
      "Radio                       0.1\n",
      "Name: proportion, dtype: float64\n"
     ]
    }
   ],
   "source": [
    "frequency = cleaned_data[\"Solicitation Method\"].value_counts(normalize=True) * 100\n",
    "\n",
    "print(frequency)"
   ]
  },
  {
   "cell_type": "code",
   "execution_count": 132,
   "metadata": {},
   "outputs": [
    {
     "name": "stdout",
     "output_type": "stream",
     "text": [
      "Province/State\n",
      "Ontario                      43.9\n",
      "Quebec                       21.1\n",
      "British Columbia             11.2\n",
      "Alberta                       9.9\n",
      "Manitoba                      4.2\n",
      "Nova Scotia                   3.3\n",
      "Saskatchewan                  2.5\n",
      "New Brunswick                 1.4\n",
      "Newfoundland And Labrador     0.9\n",
      "Prince Edward Island          0.2\n",
      "Yukon                         0.2\n",
      "California                    0.2\n",
      "New Jersey                    0.2\n",
      "Nevada                        0.2\n",
      "Wisconsin                     0.1\n",
      "North West Territories        0.1\n",
      "Texas                         0.1\n",
      "Connecticut                   0.1\n",
      "Colorado                      0.1\n",
      "New Hampshire                 0.1\n",
      "Name: proportion, dtype: float64\n"
     ]
    }
   ],
   "source": [
    "frequency2 = cleaned_data[\"Province/State\"].value_counts(normalize=True) * 100\n",
    "\n",
    "print(frequency2)"
   ]
  },
  {
   "cell_type": "code",
   "execution_count": 133,
   "metadata": {},
   "outputs": [
    {
     "name": "stdout",
     "output_type": "stream",
     "text": [
      "Fraud and Cybercrime Thematic Categories\n",
      "Merchandise                                   31.5\n",
      "Vendor Fraud                                  13.4\n",
      "Counterfeit Merchandise                        8.9\n",
      "Extortion                                      7.8\n",
      "Service                                        6.9\n",
      "Investments                                    6.5\n",
      "Romance                                        5.4\n",
      "Job                                            4.8\n",
      "Spear Phishing                                 3.6\n",
      "Bank Investigator                              2.9\n",
      "Emergency (Jail, Accident, Hospital, Help)     2.6\n",
      "Loan                                           1.6\n",
      "Prize                                          1.3\n",
      "Unauthorized Charge                            0.6\n",
      "Other                                          0.5\n",
      "Timeshare                                      0.3\n",
      "GRANT                                          0.3\n",
      "False Billing                                  0.3\n",
      "Vacation                                       0.2\n",
      "Foreign Money Offer                            0.2\n",
      "Health                                         0.2\n",
      "Recovery Pitch                                 0.1\n",
      "Pyramid                                        0.1\n",
      "Name: proportion, dtype: float64\n"
     ]
    }
   ],
   "source": [
    "frequency3 = cleaned_data[\"Fraud and Cybercrime Thematic Categories\"].value_counts(normalize=True) * 100\n",
    "\n",
    "print(frequency3)"
   ]
  },
  {
   "cell_type": "code",
   "execution_count": 134,
   "metadata": {},
   "outputs": [
    {
     "name": "stdout",
     "output_type": "stream",
     "text": [
      "Victim Age Range\n",
      "20-29    24.3\n",
      "30-39    20.7\n",
      "40-49    15.7\n",
      "50-59    12.1\n",
      "60-69    11.7\n",
      "70-79     7.2\n",
      "10-19     6.0\n",
      "80-89     1.9\n",
      "90-99     0.3\n",
      "100 +     0.1\n",
      "Name: proportion, dtype: float64\n"
     ]
    }
   ],
   "source": [
    "frequency4 = cleaned_data[\"Victim Age Range\"].value_counts(normalize=True) * 100\n",
    "\n",
    "print(frequency4)"
   ]
  },
  {
   "cell_type": "code",
   "execution_count": 135,
   "metadata": {},
   "outputs": [
    {
     "name": "stdout",
     "output_type": "stream",
     "text": [
      "Gender\n",
      "Female    51.9\n",
      "Male      48.1\n",
      "Name: proportion, dtype: float64\n"
     ]
    }
   ],
   "source": [
    "frequency5 = cleaned_data[\"Gender\"].value_counts(normalize=True) * 100\n",
    "\n",
    "print(frequency5)"
   ]
  }
 ],
 "metadata": {
  "kernelspec": {
   "display_name": "base",
   "language": "python",
   "name": "python3"
  },
  "language_info": {
   "codemirror_mode": {
    "name": "ipython",
    "version": 3
   },
   "file_extension": ".py",
   "mimetype": "text/x-python",
   "name": "python",
   "nbconvert_exporter": "python",
   "pygments_lexer": "ipython3",
   "version": "3.11.5"
  }
 },
 "nbformat": 4,
 "nbformat_minor": 2
}
